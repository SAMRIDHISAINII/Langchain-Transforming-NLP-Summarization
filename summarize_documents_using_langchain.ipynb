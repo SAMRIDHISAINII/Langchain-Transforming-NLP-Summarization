{
  "metadata": {
    "kernelspec": {
      "language": "python",
      "display_name": "Python 3",
      "name": "python3"
    },
    "language_info": {
      "name": "python",
      "version": "3.10.12",
      "mimetype": "text/x-python",
      "codemirror_mode": {
        "name": "ipython",
        "version": 3
      },
      "pygments_lexer": "ipython3",
      "nbconvert_exporter": "python",
      "file_extension": ".py"
    },
    "colab": {
      "provenance": []
    }
  },
  "nbformat_minor": 0,
  "nbformat": 4,
  "cells": [
    {
      "cell_type": "code",
      "source": [
        "%%capture\n",
        "!pip install tiktoken openai langchain"
      ],
      "metadata": {
        "execution": {
          "iopub.status.busy": "2023-10-24T15:15:38.910532Z",
          "iopub.execute_input": "2023-10-24T15:15:38.911358Z",
          "iopub.status.idle": "2023-10-24T15:16:13.125327Z",
          "shell.execute_reply.started": "2023-10-24T15:15:38.911315Z",
          "shell.execute_reply": "2023-10-24T15:16:13.123351Z"
        },
        "trusted": true,
        "id": "wHnbPekrTedQ"
      },
      "execution_count": null,
      "outputs": []
    },
    {
      "cell_type": "code",
      "source": [
        "from langchain import OpenAI, PromptTemplate, LLMChain\n",
        "from langchain.text_splitter import RecursiveCharacterTextSplitter\n",
        "from langchain.chains import MapReduceDocumentsChain, ReduceDocumentsChain\n",
        "from langchain.chains.mapreduce import MapReduceChain\n",
        "from langchain.chains import ReduceDocumentsChain\n",
        "from langchain.chains.combine_documents.stuff import StuffDocumentsChain\n",
        "from langchain.document_loaders import WebBaseLoader\n",
        "from langchain.prompts import PromptTemplate\n",
        "from langchain.chat_models import ChatOpenAI\n",
        "from langchain.chains.summarize import load_summarize_chain\n",
        "import textwrap"
      ],
      "metadata": {
        "execution": {
          "iopub.status.busy": "2023-10-24T15:16:13.128102Z",
          "iopub.execute_input": "2023-10-24T15:16:13.128548Z",
          "iopub.status.idle": "2023-10-24T15:16:15.827415Z",
          "shell.execute_reply.started": "2023-10-24T15:16:13.128503Z",
          "shell.execute_reply": "2023-10-24T15:16:15.826200Z"
        },
        "trusted": true,
        "id": "KzRH6E8vTedR"
      },
      "execution_count": null,
      "outputs": []
    },
    {
      "cell_type": "code",
      "source": [
        "import os\n",
        "os.environ[\"OPENAI_API_KEY\"] = \"secret_key\""
      ],
      "metadata": {
        "execution": {
          "iopub.status.busy": "2023-10-24T15:16:15.828585Z",
          "iopub.execute_input": "2023-10-24T15:16:15.829052Z",
          "iopub.status.idle": "2023-10-24T15:16:15.833905Z",
          "shell.execute_reply.started": "2023-10-24T15:16:15.829021Z",
          "shell.execute_reply": "2023-10-24T15:16:15.833068Z"
        },
        "trusted": true,
        "id": "8vDSU_LHTedR"
      },
      "execution_count": null,
      "outputs": []
    },
    {
      "cell_type": "code",
      "source": [
        "model_name = \"gpt-3.5-turbo-16k\"\n",
        "temperature = 0.1"
      ],
      "metadata": {
        "execution": {
          "iopub.status.busy": "2023-10-24T15:16:15.836294Z",
          "iopub.execute_input": "2023-10-24T15:16:15.837020Z",
          "iopub.status.idle": "2023-10-24T15:16:15.855088Z",
          "shell.execute_reply.started": "2023-10-24T15:16:15.836990Z",
          "shell.execute_reply": "2023-10-24T15:16:15.853963Z"
        },
        "trusted": true,
        "id": "yAToF5pNTedS"
      },
      "execution_count": null,
      "outputs": []
    },
    {
      "cell_type": "code",
      "source": [
        "llm = ChatOpenAI(model_name=model_name, temperature=temperature)"
      ],
      "metadata": {
        "execution": {
          "iopub.status.busy": "2023-10-24T15:16:15.856386Z",
          "iopub.execute_input": "2023-10-24T15:16:15.856687Z",
          "iopub.status.idle": "2023-10-24T15:16:15.880587Z",
          "shell.execute_reply.started": "2023-10-24T15:16:15.856661Z",
          "shell.execute_reply": "2023-10-24T15:16:15.879690Z"
        },
        "trusted": true,
        "id": "mt3xsmQDTedS"
      },
      "execution_count": null,
      "outputs": []
    },
    {
      "cell_type": "code",
      "source": [
        "loader = WebBaseLoader(\"https://simple.wikipedia.org/wiki/Artificial_intelligence\")\n",
        "\n",
        "def load_folder(folder):\n",
        "    documents = loader.load()\n",
        "    return documents\n",
        "\n",
        "documents = load_folder(loader)\n",
        "len(documents)"
      ],
      "metadata": {
        "execution": {
          "iopub.status.busy": "2023-10-24T15:16:15.882335Z",
          "iopub.execute_input": "2023-10-24T15:16:15.882985Z",
          "iopub.status.idle": "2023-10-24T15:16:16.398716Z",
          "shell.execute_reply.started": "2023-10-24T15:16:15.882955Z",
          "shell.execute_reply": "2023-10-24T15:16:16.397328Z"
        },
        "trusted": true,
        "id": "alpj2S0uTedT",
        "outputId": "a7079743-340d-4fa6-ec50-09a46002ca7a"
      },
      "execution_count": null,
      "outputs": [
        {
          "execution_count": 6,
          "output_type": "execute_result",
          "data": {
            "text/plain": "1"
          },
          "metadata": {}
        }
      ]
    },
    {
      "cell_type": "code",
      "source": [
        "def split_docs(documents, chunk_size=1000, chunk_overlap=20):\n",
        "    text_splitter = RecursiveCharacterTextSplitter(chunk_size=chunk_size, chunk_overlap=chunk_overlap)\n",
        "    docs = text_splitter.split_documents(documents)\n",
        "    return docs\n",
        "\n",
        "docs = split_docs(documents)\n",
        "print(len(docs))"
      ],
      "metadata": {
        "execution": {
          "iopub.status.busy": "2023-10-24T15:16:16.400186Z",
          "iopub.execute_input": "2023-10-24T15:16:16.400529Z",
          "iopub.status.idle": "2023-10-24T15:16:16.409969Z",
          "shell.execute_reply.started": "2023-10-24T15:16:16.400500Z",
          "shell.execute_reply": "2023-10-24T15:16:16.408802Z"
        },
        "trusted": true,
        "id": "bLdwL_HaTedU",
        "outputId": "8c3b40db-bdd8-4afa-de8b-2ea610eea175"
      },
      "execution_count": null,
      "outputs": [
        {
          "name": "stdout",
          "text": "16\n",
          "output_type": "stream"
        }
      ]
    },
    {
      "cell_type": "code",
      "source": [
        "docs[8]"
      ],
      "metadata": {
        "execution": {
          "iopub.status.busy": "2023-10-24T15:16:16.411522Z",
          "iopub.execute_input": "2023-10-24T15:16:16.411882Z",
          "iopub.status.idle": "2023-10-24T15:16:16.424894Z",
          "shell.execute_reply.started": "2023-10-24T15:16:16.411854Z",
          "shell.execute_reply": "2023-10-24T15:16:16.423590Z"
        },
        "trusted": true,
        "id": "xFDsBqs-TedU",
        "outputId": "0894ee1e-5172-4e87-ffe6-c9ac663f8b75"
      },
      "execution_count": null,
      "outputs": [
        {
          "execution_count": 8,
          "output_type": "execute_result",
          "data": {
            "text/plain": "Document(page_content='AI involves many different fields like computer science, mathematics, linguistics, psychology, neuroscience, and philosophy. Eventually researchers hope to create a \"general artificial intelligence\" which can solve many problems instead of focusing on just one. Researchers are also trying to create creative and emotional AI which can possibly empathize or create art. Many approaches and tools have been tried.', metadata={'source': 'https://simple.wikipedia.org/wiki/Artificial_intelligence', 'title': 'Artificial intelligence - Simple English Wikipedia, the free encyclopedia', 'language': 'en'})"
          },
          "metadata": {}
        }
      ]
    },
    {
      "cell_type": "code",
      "source": [
        "chain = load_summarize_chain(llm,\n",
        "                             chain_type=\"map_reduce\",\n",
        "                             verbose = False)"
      ],
      "metadata": {
        "execution": {
          "iopub.status.busy": "2023-10-24T15:16:16.426634Z",
          "iopub.execute_input": "2023-10-24T15:16:16.427084Z",
          "iopub.status.idle": "2023-10-24T15:16:16.435735Z",
          "shell.execute_reply.started": "2023-10-24T15:16:16.427050Z",
          "shell.execute_reply": "2023-10-24T15:16:16.434519Z"
        },
        "trusted": true,
        "id": "n95kbQkMTedU"
      },
      "execution_count": null,
      "outputs": []
    },
    {
      "cell_type": "code",
      "source": [
        "output_summary = chain.run(docs)\n",
        "wrapped_text = textwrap.fill(output_summary, width=100)\n",
        "print(wrapped_text)"
      ],
      "metadata": {
        "execution": {
          "iopub.status.busy": "2023-10-24T15:16:16.440452Z",
          "iopub.execute_input": "2023-10-24T15:16:16.440840Z",
          "iopub.status.idle": "2023-10-24T15:17:18.552107Z",
          "shell.execute_reply.started": "2023-10-24T15:16:16.440811Z",
          "shell.execute_reply": "2023-10-24T15:17:18.550594Z"
        },
        "trusted": true,
        "id": "ntMrTU5nTedU",
        "outputId": "8aebdc2d-2d3f-48eb-c63c-acd7aeb82d71"
      },
      "execution_count": null,
      "outputs": [
        {
          "name": "stdout",
          "text": "Artificial intelligence (AI) is the ability of computers or machines to think and learn without\nexplicit programming. It encompasses various fields and aims to develop intelligent behavior in\nmachines. AI has been used successfully in areas such as speech recognition, game systems, self-\ndriving cars, and data interpretation. However, there are concerns about its potential dangers. AI\nresearch began in the 1950s but faced challenges and funding cuts, leading to a decline known as the\n\"AI winter.\" It experienced a resurgence in the 90s and early 2000s, with notable achievements in\ndefeating human champions in chess and Jeopardy!. AI is a multidisciplinary field and researchers\naim to develop general and creative AI. The summary also mentions related pages, references, and the\nneed for global collaboration in navigating the AI landscape.\n",
          "output_type": "stream"
        }
      ]
    },
    {
      "cell_type": "code",
      "source": [
        "prompt_template = \"\"\"Write a concise summary of the following:\n",
        "\"{text}\"\n",
        "CONCISE SUMMARY:\"\"\""
      ],
      "metadata": {
        "execution": {
          "iopub.status.busy": "2023-10-24T15:17:18.553835Z",
          "iopub.execute_input": "2023-10-24T15:17:18.554297Z",
          "iopub.status.idle": "2023-10-24T15:17:18.561178Z",
          "shell.execute_reply.started": "2023-10-24T15:17:18.554256Z",
          "shell.execute_reply": "2023-10-24T15:17:18.559829Z"
        },
        "trusted": true,
        "id": "k7CD90xvTedU"
      },
      "execution_count": null,
      "outputs": []
    },
    {
      "cell_type": "code",
      "source": [
        "prompt = PromptTemplate.from_template(prompt_template)"
      ],
      "metadata": {
        "execution": {
          "iopub.status.busy": "2023-10-24T15:17:18.562746Z",
          "iopub.execute_input": "2023-10-24T15:17:18.563220Z",
          "iopub.status.idle": "2023-10-24T15:17:18.581659Z",
          "shell.execute_reply.started": "2023-10-24T15:17:18.563177Z",
          "shell.execute_reply": "2023-10-24T15:17:18.580352Z"
        },
        "trusted": true,
        "id": "R-hp2Z6ETedU"
      },
      "execution_count": null,
      "outputs": []
    },
    {
      "cell_type": "code",
      "source": [
        "llm_chain = LLMChain(llm=llm, prompt=prompt)"
      ],
      "metadata": {
        "execution": {
          "iopub.status.busy": "2023-10-24T15:17:18.583425Z",
          "iopub.execute_input": "2023-10-24T15:17:18.584457Z",
          "iopub.status.idle": "2023-10-24T15:17:18.597094Z",
          "shell.execute_reply.started": "2023-10-24T15:17:18.584411Z",
          "shell.execute_reply": "2023-10-24T15:17:18.595073Z"
        },
        "trusted": true,
        "id": "1qyUnDiHTedV"
      },
      "execution_count": null,
      "outputs": []
    },
    {
      "cell_type": "code",
      "source": [
        "stuff_chain = StuffDocumentsChain(\n",
        "    llm_chain=llm_chain,\n",
        "    document_variable_name=\"text\"\n",
        "  )"
      ],
      "metadata": {
        "execution": {
          "iopub.status.busy": "2023-10-24T15:17:18.598894Z",
          "iopub.execute_input": "2023-10-24T15:17:18.599465Z",
          "iopub.status.idle": "2023-10-24T15:17:18.608949Z",
          "shell.execute_reply.started": "2023-10-24T15:17:18.599426Z",
          "shell.execute_reply": "2023-10-24T15:17:18.607908Z"
        },
        "trusted": true,
        "id": "n8nR5bKxTedV"
      },
      "execution_count": null,
      "outputs": []
    },
    {
      "cell_type": "code",
      "source": [
        "output_summary = stuff_chain.run(docs)"
      ],
      "metadata": {
        "execution": {
          "iopub.status.busy": "2023-10-24T15:17:18.611178Z",
          "iopub.execute_input": "2023-10-24T15:17:18.611604Z",
          "iopub.status.idle": "2023-10-24T15:17:24.451719Z",
          "shell.execute_reply.started": "2023-10-24T15:17:18.611554Z",
          "shell.execute_reply": "2023-10-24T15:17:24.450491Z"
        },
        "trusted": true,
        "id": "qNxk0Zo0TedV"
      },
      "execution_count": null,
      "outputs": []
    },
    {
      "cell_type": "code",
      "source": [
        "wrapped_text = textwrap.fill(output_summary,\n",
        "                             width=100,\n",
        "                             break_long_words=False,\n",
        "                             replace_whitespace=False)\n",
        "print(wrapped_text)"
      ],
      "metadata": {
        "execution": {
          "iopub.status.busy": "2023-10-24T15:17:24.453190Z",
          "iopub.execute_input": "2023-10-24T15:17:24.453503Z",
          "iopub.status.idle": "2023-10-24T15:17:24.460183Z",
          "shell.execute_reply.started": "2023-10-24T15:17:24.453476Z",
          "shell.execute_reply": "2023-10-24T15:17:24.459364Z"
        },
        "trusted": true,
        "id": "rQLbbT_-TedV",
        "outputId": "66812ea0-5bcd-4a91-94e8-d524fe290835"
      },
      "execution_count": null,
      "outputs": [
        {
          "name": "stdout",
          "text": "Artificial intelligence (AI) is the ability of a computer program or machine to think and learn. It\nis a field of study that aims to make computers \"smart\" and capable of working on their own without\nbeing explicitly programmed. The term \"intelligence\" in AI refers to the ability to act and make\ndecisions, rather than thinking like a human. AI has applications in various fields such as speech\nrecognition, strategic game systems, self-driving cars, and data interpretation. Researchers are\nworking towards creating a general artificial intelligence that can solve multiple problems and even\nexhibit creativity and emotions. However, AI also raises concerns about its potential impact on\nhumanity.\n",
          "output_type": "stream"
        }
      ]
    },
    {
      "cell_type": "code",
      "source": [
        "chain = load_summarize_chain(llm,\n",
        "                             chain_type=\"stuff\",\n",
        "                             prompt=prompt)"
      ],
      "metadata": {
        "execution": {
          "iopub.status.busy": "2023-10-24T15:17:24.461312Z",
          "iopub.execute_input": "2023-10-24T15:17:24.462422Z",
          "iopub.status.idle": "2023-10-24T15:17:24.487912Z",
          "shell.execute_reply.started": "2023-10-24T15:17:24.462390Z",
          "shell.execute_reply": "2023-10-24T15:17:24.486782Z"
        },
        "trusted": true,
        "id": "gDsYcZGiTedV"
      },
      "execution_count": null,
      "outputs": []
    },
    {
      "cell_type": "markdown",
      "source": [
        "## ⌛**Map Chain**"
      ],
      "metadata": {
        "id": "YU1NCjRUTedV"
      }
    },
    {
      "cell_type": "code",
      "source": [
        "map_template = \"\"\"Write a concise summary of the following content:\n",
        "\n",
        "{text}\n",
        "\n",
        "Summary:\n",
        "\"\"\""
      ],
      "metadata": {
        "execution": {
          "iopub.status.busy": "2023-10-24T15:17:24.489602Z",
          "iopub.execute_input": "2023-10-24T15:17:24.490208Z",
          "iopub.status.idle": "2023-10-24T15:17:24.499569Z",
          "shell.execute_reply.started": "2023-10-24T15:17:24.490165Z",
          "shell.execute_reply": "2023-10-24T15:17:24.498183Z"
        },
        "trusted": true,
        "id": "1vtG4zxmTedV"
      },
      "execution_count": null,
      "outputs": []
    },
    {
      "cell_type": "code",
      "source": [
        "map_prompt = PromptTemplate.from_template(map_template)"
      ],
      "metadata": {
        "execution": {
          "iopub.status.busy": "2023-10-24T15:17:24.501322Z",
          "iopub.execute_input": "2023-10-24T15:17:24.501651Z",
          "iopub.status.idle": "2023-10-24T15:17:24.512403Z",
          "shell.execute_reply.started": "2023-10-24T15:17:24.501624Z",
          "shell.execute_reply": "2023-10-24T15:17:24.511185Z"
        },
        "trusted": true,
        "id": "R7xO97HNTedV"
      },
      "execution_count": null,
      "outputs": []
    },
    {
      "cell_type": "code",
      "source": [
        "map_chain = LLMChain(prompt=map_prompt, llm=llm)"
      ],
      "metadata": {
        "execution": {
          "iopub.status.busy": "2023-10-24T15:17:24.514590Z",
          "iopub.execute_input": "2023-10-24T15:17:24.515797Z",
          "iopub.status.idle": "2023-10-24T15:17:24.525433Z",
          "shell.execute_reply.started": "2023-10-24T15:17:24.515745Z",
          "shell.execute_reply": "2023-10-24T15:17:24.523767Z"
        },
        "trusted": true,
        "id": "iHdNR-fgTedV"
      },
      "execution_count": null,
      "outputs": []
    },
    {
      "cell_type": "markdown",
      "source": [
        "## ⌛**Reduce Chain**"
      ],
      "metadata": {
        "id": "rFZoFj4CTedV"
      }
    },
    {
      "cell_type": "code",
      "source": [
        "reduce_template = \"\"\"The following is set of summaries:\n",
        "\n",
        "{doc_summaries}\n",
        "\n",
        "Summarize the above summaries with all the key details\n",
        "Summary:\"\"\""
      ],
      "metadata": {
        "execution": {
          "iopub.status.busy": "2023-10-24T15:17:24.527005Z",
          "iopub.execute_input": "2023-10-24T15:17:24.527667Z",
          "iopub.status.idle": "2023-10-24T15:17:24.538089Z",
          "shell.execute_reply.started": "2023-10-24T15:17:24.527630Z",
          "shell.execute_reply": "2023-10-24T15:17:24.536650Z"
        },
        "trusted": true,
        "id": "8N8FJO-ATedV"
      },
      "execution_count": null,
      "outputs": []
    },
    {
      "cell_type": "code",
      "source": [
        "reduce_prompt = PromptTemplate.from_template(reduce_template)"
      ],
      "metadata": {
        "execution": {
          "iopub.status.busy": "2023-10-24T15:17:24.541742Z",
          "iopub.execute_input": "2023-10-24T15:17:24.542607Z",
          "iopub.status.idle": "2023-10-24T15:17:24.551109Z",
          "shell.execute_reply.started": "2023-10-24T15:17:24.542564Z",
          "shell.execute_reply": "2023-10-24T15:17:24.550266Z"
        },
        "trusted": true,
        "id": "dD1TzUpITedW"
      },
      "execution_count": null,
      "outputs": []
    },
    {
      "cell_type": "code",
      "source": [
        "reduce_chain = LLMChain(llm=llm, prompt=reduce_prompt)"
      ],
      "metadata": {
        "execution": {
          "iopub.status.busy": "2023-10-24T15:17:24.552408Z",
          "iopub.execute_input": "2023-10-24T15:17:24.553586Z",
          "iopub.status.idle": "2023-10-24T15:17:24.566316Z",
          "shell.execute_reply.started": "2023-10-24T15:17:24.553552Z",
          "shell.execute_reply": "2023-10-24T15:17:24.564953Z"
        },
        "trusted": true,
        "id": "mZu1HywqTedW"
      },
      "execution_count": null,
      "outputs": []
    },
    {
      "cell_type": "code",
      "source": [
        "stuff_chain = StuffDocumentsChain(llm_chain=reduce_chain,\n",
        "                                  document_variable_name=\"doc_summaries\")"
      ],
      "metadata": {
        "execution": {
          "iopub.status.busy": "2023-10-24T15:17:24.568102Z",
          "iopub.execute_input": "2023-10-24T15:17:24.568504Z",
          "iopub.status.idle": "2023-10-24T15:17:24.581643Z",
          "shell.execute_reply.started": "2023-10-24T15:17:24.568472Z",
          "shell.execute_reply": "2023-10-24T15:17:24.580220Z"
        },
        "trusted": true,
        "id": "1f6Y3B-WTedW"
      },
      "execution_count": null,
      "outputs": []
    },
    {
      "cell_type": "code",
      "source": [
        "reduce_chain = ReduceDocumentsChain(\n",
        "    combine_documents_chain=stuff_chain\n",
        ")"
      ],
      "metadata": {
        "execution": {
          "iopub.status.busy": "2023-10-24T15:17:24.583367Z",
          "iopub.execute_input": "2023-10-24T15:17:24.584760Z",
          "iopub.status.idle": "2023-10-24T15:17:24.595705Z",
          "shell.execute_reply.started": "2023-10-24T15:17:24.584709Z",
          "shell.execute_reply": "2023-10-24T15:17:24.594373Z"
        },
        "trusted": true,
        "id": "3_H4rH4CTedW"
      },
      "execution_count": null,
      "outputs": []
    },
    {
      "cell_type": "markdown",
      "source": [
        "## ⌛**Map Reduce Chain**"
      ],
      "metadata": {
        "id": "yRR6nUCCTedW"
      }
    },
    {
      "cell_type": "code",
      "source": [
        "map_reduce_chain = MapReduceDocumentsChain(\n",
        "    llm_chain=map_chain,\n",
        "    document_variable_name=\"text\",\n",
        "    reduce_documents_chain=reduce_chain)"
      ],
      "metadata": {
        "execution": {
          "iopub.status.busy": "2023-10-24T15:17:24.597984Z",
          "iopub.execute_input": "2023-10-24T15:17:24.598359Z",
          "iopub.status.idle": "2023-10-24T15:17:24.608309Z",
          "shell.execute_reply.started": "2023-10-24T15:17:24.598329Z",
          "shell.execute_reply": "2023-10-24T15:17:24.607422Z"
        },
        "trusted": true,
        "id": "1f-PeOXHTedW"
      },
      "execution_count": null,
      "outputs": []
    },
    {
      "cell_type": "code",
      "source": [
        "output = map_reduce_chain.run(docs)"
      ],
      "metadata": {
        "execution": {
          "iopub.status.busy": "2023-10-24T15:17:24.610434Z",
          "iopub.execute_input": "2023-10-24T15:17:24.611400Z",
          "iopub.status.idle": "2023-10-24T15:18:21.164130Z",
          "shell.execute_reply.started": "2023-10-24T15:17:24.611350Z",
          "shell.execute_reply": "2023-10-24T15:18:21.163241Z"
        },
        "trusted": true,
        "id": "8fBDY_2PTedW"
      },
      "execution_count": null,
      "outputs": []
    },
    {
      "cell_type": "code",
      "source": [
        "wrapped_text = textwrap.fill(output,\n",
        "                             width=100,\n",
        "                             break_long_words=False,\n",
        "                             replace_whitespace=False)\n",
        "print(wrapped_text)"
      ],
      "metadata": {
        "execution": {
          "iopub.status.busy": "2023-10-24T15:18:21.171509Z",
          "iopub.execute_input": "2023-10-24T15:18:21.172017Z",
          "iopub.status.idle": "2023-10-24T15:18:21.180506Z",
          "shell.execute_reply.started": "2023-10-24T15:18:21.171976Z",
          "shell.execute_reply": "2023-10-24T15:18:21.178975Z"
        },
        "trusted": true,
        "id": "ZyDeAdWOTedX",
        "outputId": "54fb2abe-a6d0-4c66-8cd4-f045194dd187"
      },
      "execution_count": null,
      "outputs": [
        {
          "name": "stdout",
          "text": "Artificial intelligence (AI) is a field of computer science that focuses on creating intelligent\nmachines capable of tasks that typically require human intelligence. It is used in various\nindustries and has the potential to greatly impact society. The term \"intelligence\" is debated in\nAI, with different perspectives on whether it should be defined in terms of action or thinking. AI\ninvolves computer programs that mimic human cognition and can learn, solve problems, and think\nlogically. It is a multidisciplinary field that encompasses various disciplines. AI research began\nin 1956 but experienced a decline known as the \"AI winter\" before resurging in the 90s and early\n2000s. Notable achievements include machines defeating human champions in chess and Jeopardy! AI has\nbecome popular worldwide due to advancements in technology and access to more data. The content also\nincludes references to various topics and sources discussing AI.\n",
          "output_type": "stream"
        }
      ]
    },
    {
      "cell_type": "code",
      "source": [
        "chain = load_summarize_chain(llm, chain_type=\"refine\")\n",
        "chain.run(docs)"
      ],
      "metadata": {
        "execution": {
          "iopub.status.busy": "2023-10-24T15:18:21.182368Z",
          "iopub.execute_input": "2023-10-24T15:18:21.182799Z",
          "iopub.status.idle": "2023-10-24T15:21:40.031247Z",
          "shell.execute_reply.started": "2023-10-24T15:18:21.182759Z",
          "shell.execute_reply": "2023-10-24T15:21:40.030246Z"
        },
        "trusted": true,
        "id": "Ze5qdmvBTedX",
        "outputId": "f2bc4860-f225-4520-f4ce-845c7ce0accc"
      },
      "execution_count": null,
      "outputs": [
        {
          "execution_count": 29,
          "output_type": "execute_result",
          "data": {
            "text/plain": "'Artificial intelligence (AI) is the ability of a computer program or machine to think and learn, mimicking human cognition. It involves the interpretation of external data, learning from it, and using those learnings to achieve specific goals and tasks through flexible adaptation. The goal of AI is to create a flexible agent that can perceive its environment and take actions to maximize its chance of success. AI involves many different fields like computer science, mathematics, linguistics, psychology, neuroscience, and philosophy. While the extreme goal of AI research is to create computer programs that can learn, solve problems, and think logically, in practice, most applications focus on tasks that computers can do well, such as searching databases and performing calculations. The ability for AI to truly perceive its environment is currently beyond the capabilities of present-day computing. Researchers are also exploring the creation of a \"general artificial intelligence\" that can solve many problems instead of focusing on just one, as well as developing creative and emotional AI that can empathize or create art. Kaplan and Haenlein further classify AI into three types: analytical AI, which generates cognitive representations of the world based on past experience; human-inspired AI, which incorporates elements of cognitive and emotional intelligence in decision making; and humanized AI, which combines cognitive, emotional, and social intelligence and can interact with others in a self-conscious and self-aware manner. AI research began in 1956 with a conference at Dartmouth College, where programs were developed that showed promising results in areas like checkers and word problems. However, researchers soon realized the challenges of developing AI with emotions and common sense. Funding cuts led to a period known as \"AI winter\" where little research was conducted. AI revived again in the 90s and early 2000s with its use in data mining and medical diagnosis. This was possible because of faster computers and focusing on solving more specific problems. In 1997, the chess computer Deep Blue became the first computer program to beat chess world champion Garry Kasparov. Faster computers, advances in deep learning, and access to more data have made AI popular throughout the world. In 2011, IBM Watson beat the top two Jeopardy! players Brad Rutter and Ken Jennings, and in 2016, Google\\'s AlphaGo beat top Go player Lee Sedol 4 out of 5 times. The field of AI is supported by related areas such as artificial neural networks, expert systems, machine learning, and chatbots like ChatGPT.'"
          },
          "metadata": {}
        }
      ]
    },
    {
      "cell_type": "markdown",
      "source": [
        "Additionally, it's worth noting that Langchain offers the flexibility to provide a prompt and obtain intermediate steps in the summarization process. This feature enables a more detailed understanding of how the summarization is being generated, making it a valuable tool for transparency and fine-tuning the summarization outcomes."
      ],
      "metadata": {
        "id": "aqAqmOPpTedX"
      }
    },
    {
      "cell_type": "code",
      "source": [
        "prompt_template = \"\"\"Write a concise summary of the following extracting the key information:\n",
        "\n",
        "{text}\n",
        "\n",
        "CONCISE SUMMARY:\"\"\""
      ],
      "metadata": {
        "execution": {
          "iopub.status.busy": "2023-10-24T15:21:40.032665Z",
          "iopub.execute_input": "2023-10-24T15:21:40.033229Z",
          "iopub.status.idle": "2023-10-24T15:21:40.037926Z",
          "shell.execute_reply.started": "2023-10-24T15:21:40.033188Z",
          "shell.execute_reply": "2023-10-24T15:21:40.036694Z"
        },
        "trusted": true,
        "id": "uCRTobbzTedX"
      },
      "execution_count": null,
      "outputs": []
    },
    {
      "cell_type": "code",
      "source": [
        "prompt = PromptTemplate(template=prompt_template,\n",
        "                        input_variables=[\"text\"])"
      ],
      "metadata": {
        "execution": {
          "iopub.status.busy": "2023-10-24T15:21:40.039482Z",
          "iopub.execute_input": "2023-10-24T15:21:40.039828Z",
          "iopub.status.idle": "2023-10-24T15:21:40.052910Z",
          "shell.execute_reply.started": "2023-10-24T15:21:40.039799Z",
          "shell.execute_reply": "2023-10-24T15:21:40.051541Z"
        },
        "trusted": true,
        "id": "P6vrx_laTedX"
      },
      "execution_count": null,
      "outputs": []
    },
    {
      "cell_type": "code",
      "source": [
        "refine_template = (\n",
        "    \"Your job is to produce a final summary\\n\"\n",
        "    \"We have provided an existing summary up to a certain point: {existing_answer}\\n\"\n",
        "    \"We have the opportunity to refine the existing summary\"\n",
        "    \"(only if needed) with some more context below.\\n\"\n",
        "    \"------------\\n\"\n",
        "    \"{text}\\n\"\n",
        "    \"------------\\n\"\n",
        "    \"Given the new context, refine the original summary\"\n",
        "    \"If the context isn't useful, return the original summary.\"\n",
        ")"
      ],
      "metadata": {
        "execution": {
          "iopub.status.busy": "2023-10-24T15:21:40.054870Z",
          "iopub.execute_input": "2023-10-24T15:21:40.055283Z",
          "iopub.status.idle": "2023-10-24T15:21:40.066402Z",
          "shell.execute_reply.started": "2023-10-24T15:21:40.055250Z",
          "shell.execute_reply": "2023-10-24T15:21:40.065219Z"
        },
        "trusted": true,
        "id": "bYi_8tHVTedY"
      },
      "execution_count": null,
      "outputs": []
    },
    {
      "cell_type": "code",
      "source": [
        "refine_prompt = PromptTemplate(\n",
        "    input_variables=[\"existing_answer\", \"text\"],\n",
        "    template=refine_template,\n",
        ")"
      ],
      "metadata": {
        "execution": {
          "iopub.status.busy": "2023-10-24T15:21:40.068560Z",
          "iopub.execute_input": "2023-10-24T15:21:40.069038Z",
          "iopub.status.idle": "2023-10-24T15:21:40.084408Z",
          "shell.execute_reply.started": "2023-10-24T15:21:40.068996Z",
          "shell.execute_reply": "2023-10-24T15:21:40.083423Z"
        },
        "trusted": true,
        "id": "9VhC66uGTedY"
      },
      "execution_count": null,
      "outputs": []
    },
    {
      "cell_type": "code",
      "source": [
        "chain = load_summarize_chain(OpenAI(temperature=0),\n",
        "                             chain_type=\"refine\",\n",
        "                             return_intermediate_steps=True,\n",
        "                             question_prompt=prompt,\n",
        "                             refine_prompt=refine_prompt)"
      ],
      "metadata": {
        "execution": {
          "iopub.status.busy": "2023-10-24T15:21:40.086494Z",
          "iopub.execute_input": "2023-10-24T15:21:40.087389Z",
          "iopub.status.idle": "2023-10-24T15:21:40.099805Z",
          "shell.execute_reply.started": "2023-10-24T15:21:40.087347Z",
          "shell.execute_reply": "2023-10-24T15:21:40.098631Z"
        },
        "trusted": true,
        "id": "LbWR26fNTedY"
      },
      "execution_count": null,
      "outputs": []
    },
    {
      "cell_type": "code",
      "source": [
        "output_summary = chain({\"input_documents\": docs}, return_only_outputs=True)"
      ],
      "metadata": {
        "execution": {
          "iopub.status.busy": "2023-10-24T15:21:40.101854Z",
          "iopub.execute_input": "2023-10-24T15:21:40.102739Z",
          "iopub.status.idle": "2023-10-24T15:23:36.523697Z",
          "shell.execute_reply.started": "2023-10-24T15:21:40.102693Z",
          "shell.execute_reply": "2023-10-24T15:23:36.522220Z"
        },
        "trusted": true,
        "id": "RDQykSoCTedY"
      },
      "execution_count": null,
      "outputs": []
    },
    {
      "cell_type": "code",
      "source": [
        "wrapped_text = textwrap.fill(output_summary['output_text'],\n",
        "                             width=100,\n",
        "                             break_long_words=False,\n",
        "                             replace_whitespace=False)\n",
        "print(wrapped_text)"
      ],
      "metadata": {
        "execution": {
          "iopub.status.busy": "2023-10-24T15:23:36.525188Z",
          "iopub.execute_input": "2023-10-24T15:23:36.525519Z",
          "iopub.status.idle": "2023-10-24T15:23:36.533960Z",
          "shell.execute_reply.started": "2023-10-24T15:23:36.525492Z",
          "shell.execute_reply": "2023-10-24T15:23:36.532477Z"
        },
        "trusted": true,
        "id": "pYyCxn-OTedY",
        "outputId": "d8359c87-2f5a-46f7-eae5-45f74145db2b"
      },
      "execution_count": null,
      "outputs": [
        {
          "name": "stdout",
          "text": "\n\nArtificial intelligence (AI) is a field of study that focuses on creating machines that can think\nand act like humans. It was first coined by John McCarthy in 1955 and is related to other fields\nsuch as robotics, natural language processing, and machine learning. AI involves many different\nfields like computer science, mathematics, linguistics, psychology, neuroscience, and philosophy. AI\nis used in many areas, including healthcare, finance, and transportation, and is spoken in many\nlanguages. The term intelligence is misleading, as Alan Turing wrote in 1950 that the question\nshould be changed from whether a machine \"thinks\" to \"whether or not it is possible for machinery to\nshow intelligent behaviour\". Turing also created the Turing test, which is a general test to\ndetermine if a machine is intelligent. AI founders John McCarthy and Russell and Norvig agree that\nAI must be defined in terms of \"acting\" and not \"thinking\", and that the Turing test should not\ncompare machines to people. Borrowing from the management literature, Kaplan and Haenlein classify\nartificial intelligence into three different types of AI systems: analytical, human-inspired, and\nhumanized artificial intelligence. Analytical AI has only characteristics consistent with cognitive\nintelligence generating cognitive representation of the world and using learning based on past\nexperience.\n",
          "output_type": "stream"
        }
      ]
    }
  ]
}